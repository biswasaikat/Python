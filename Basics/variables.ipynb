{
 "cells": [
  {
   "cell_type": "markdown",
   "metadata": {},
   "source": [
    "Naming Rules:\n",
    "\n",
    "1. Must start with a letter (A-Z or a-z) or an underscore (_).\n",
    "2. Can be followed by letters, digits (0-9), or underscores.\n",
    "3. Cannot start with a digit.\n",
    "4. Cannot use Python keywords (e.g., if, else, while, import, etc.).\n",
    "5. Case-sensitive (var, Var, and VAR are different variables)."
   ]
  },
  {
   "cell_type": "markdown",
   "metadata": {},
   "source": [
    "Assignment Rules:"
   ]
  },
  {
   "cell_type": "code",
   "execution_count": 1,
   "metadata": {},
   "outputs": [
    {
     "name": "stdout",
     "output_type": "stream",
     "text": [
      "10\n"
     ]
    }
   ],
   "source": [
    "# Use the = operator for assignment:\n",
    "\n",
    "x = 10  # x is assigned the value 10\n",
    "print(x)"
   ]
  },
  {
   "cell_type": "code",
   "execution_count": 2,
   "metadata": {},
   "outputs": [
    {
     "name": "stdout",
     "output_type": "stream",
     "text": [
      "Hello\n"
     ]
    }
   ],
   "source": [
    "# Can be reassigned at any time:\n",
    "\n",
    "x = \"Hello\"  # Now x holds a string instead of a number\n",
    "print(x)"
   ]
  },
  {
   "cell_type": "code",
   "execution_count": 4,
   "metadata": {},
   "outputs": [
    {
     "name": "stdout",
     "output_type": "stream",
     "text": [
      "1 2 3\n",
      "1\n"
     ]
    }
   ],
   "source": [
    "# Multiple assignments in one line:\n",
    "\n",
    "a, b, c = 1, 2, 3  # Assigning multiple values at once\n",
    "print(a,b,c)\n",
    "print(a)"
   ]
  },
  {
   "cell_type": "code",
   "execution_count": 5,
   "metadata": {},
   "outputs": [
    {
     "name": "stdout",
     "output_type": "stream",
     "text": [
      "100 100 100\n"
     ]
    }
   ],
   "source": [
    "# Assign the same value to multiple variables:\n",
    "\n",
    "x = y = z = 100  # All three variables hold the value 100\n",
    "print(x,y,z)"
   ]
  },
  {
   "cell_type": "markdown",
   "metadata": {},
   "source": [
    "Data Type Rules:\n",
    "\n",
    "1. Python variables are dynamically typed (you don't need to declare their type explicitly).\n",
    "2. The type is determined at runtime based on the assigned value.\n",
    "3. Use type() to check a variable's data type"
   ]
  },
  {
   "cell_type": "code",
   "execution_count": null,
   "metadata": {},
   "outputs": [
    {
     "name": "stdout",
     "output_type": "stream",
     "text": [
      "<class 'int'> <class 'str'>\n"
     ]
    }
   ],
   "source": [
    "x, y = 10, \"Hello\"\n",
    "print(type(x), type(y))  # Output: <class 'int'>"
   ]
  },
  {
   "cell_type": "markdown",
   "metadata": {},
   "source": [
    "Best Practices:\n",
    "\n",
    "1. Use meaningful variable names (count instead of c, total_price instead of tp).\n",
    "2. Follow snake_case convention for variable names (user_name, total_amount).\n",
    "3. Use constants (uppercase) for fixed values (PI = 3.14)."
   ]
  }
 ],
 "metadata": {
  "kernelspec": {
   "display_name": "Python 3",
   "language": "python",
   "name": "python3"
  },
  "language_info": {
   "codemirror_mode": {
    "name": "ipython",
    "version": 3
   },
   "file_extension": ".py",
   "mimetype": "text/x-python",
   "name": "python",
   "nbconvert_exporter": "python",
   "pygments_lexer": "ipython3",
   "version": "3.13.2"
  }
 },
 "nbformat": 4,
 "nbformat_minor": 2
}
