{
 "cells": [
  {
   "cell_type": "markdown",
   "metadata": {},
   "source": [
    "Basic Syntax of a Function\n",
    "\n",
    "Explanation:\n",
    "1. def → Defines a function.\n",
    "2. function_name() → Function name followed by parentheses.\n",
    "3. : → Indicates the start of the function body.\n",
    "4. Indentation → The code inside the function must be indented.\n",
    "5. Calling the function → The function is executed when called by its name."
   ]
  },
  {
   "cell_type": "code",
   "execution_count": 9,
   "metadata": {},
   "outputs": [
    {
     "name": "stdout",
     "output_type": "stream",
     "text": [
      "Hello, this is a function!\n"
     ]
    }
   ],
   "source": [
    "def function_name():\n",
    "    # Function body (code inside the function)\n",
    "    print(\"Hello, this is a function!\")\n",
    "\n",
    "# Calling the function\n",
    "function_name()"
   ]
  },
  {
   "cell_type": "markdown",
   "metadata": {},
   "source": [
    "1. Defining and Calling a Function\n",
    "\n",
    "A function is defined using the def keyword and called using its name.\n",
    "\n",
    "Use Case: Used for repetitive tasks like displaying messages."
   ]
  },
  {
   "cell_type": "code",
   "execution_count": 1,
   "metadata": {},
   "outputs": [
    {
     "name": "stdout",
     "output_type": "stream",
     "text": [
      "Hello, welcome to Python!\n"
     ]
    }
   ],
   "source": [
    "def greet():\n",
    "    print(\"Hello, welcome to Python!\")\n",
    "\n",
    "greet()  # Calling the function\n"
   ]
  },
  {
   "cell_type": "markdown",
   "metadata": {},
   "source": [
    "2. Function with Parameters\n",
    "\n",
    "Parameters allow functions to take input values.\n",
    "\n",
    "Use Case: Personalized greetings or input-based operations."
   ]
  },
  {
   "cell_type": "code",
   "execution_count": 2,
   "metadata": {},
   "outputs": [
    {
     "name": "stdout",
     "output_type": "stream",
     "text": [
      "Hello, Alice!\n"
     ]
    }
   ],
   "source": [
    "def greet_user(name):\n",
    "    print(f\"Hello, {name}!\")\n",
    "\n",
    "greet_user(\"Alice\")"
   ]
  },
  {
   "cell_type": "markdown",
   "metadata": {},
   "source": [
    "3. Function with Return Value\n",
    "\n",
    "Functions can return values using return.\n",
    "\n",
    "Use Case: Performing calculations and returning results."
   ]
  },
  {
   "cell_type": "code",
   "execution_count": 3,
   "metadata": {},
   "outputs": [
    {
     "name": "stdout",
     "output_type": "stream",
     "text": [
      "8\n"
     ]
    }
   ],
   "source": [
    "def add(a, b):\n",
    "    return a + b\n",
    "\n",
    "result = add(5, 3)\n",
    "print(result)  # Output: 8"
   ]
  },
  {
   "cell_type": "markdown",
   "metadata": {},
   "source": [
    "4. Default Parameter Value\n",
    "\n",
    "You can set default values for parameters.\n",
    "\n",
    "Use Case: Default behavior when an argument is not provided."
   ]
  },
  {
   "cell_type": "code",
   "execution_count": null,
   "metadata": {},
   "outputs": [
    {
     "name": "stdout",
     "output_type": "stream",
     "text": [
      "9\n",
      "27\n"
     ]
    }
   ],
   "source": [
    "def power(base, exponent=2):\n",
    "    return base ** exponent\n",
    "\n",
    "print(power(3))     # Uses default exponent (3^2 = 9)\n",
    "print(power(3, 3))  # 3^3 = 27"
   ]
  },
  {
   "cell_type": "markdown",
   "metadata": {},
   "source": [
    "4. 1 The first parameter cannot have a default value if there are required parameters after it."
   ]
  },
  {
   "cell_type": "code",
   "execution_count": 18,
   "metadata": {},
   "outputs": [
    {
     "ename": "SyntaxError",
     "evalue": "parameter without a default follows parameter with a default (1599358937.py, line 1)",
     "output_type": "error",
     "traceback": [
      "  \u001b[36mCell\u001b[39m\u001b[36m \u001b[39m\u001b[32mIn[18]\u001b[39m\u001b[32m, line 1\u001b[39m\n\u001b[31m    \u001b[39m\u001b[31mdef power(base = 3, exponent):\u001b[39m\n                        ^\n\u001b[31mSyntaxError\u001b[39m\u001b[31m:\u001b[39m parameter without a default follows parameter with a default\n"
     ]
    }
   ],
   "source": [
    "def power(base = 3, exponent):\n",
    "    return base ** exponent\n",
    "\n",
    "print(power(2))\n",
    "print(power(3, 2))"
   ]
  },
  {
   "cell_type": "markdown",
   "metadata": {},
   "source": [
    "5. Keyword Arguments\n",
    "\n",
    "Allows passing arguments by specifying parameter names.\n",
    "\n",
    "Use Case: Improves readability and flexibility."
   ]
  },
  {
   "cell_type": "code",
   "execution_count": 16,
   "metadata": {},
   "outputs": [
    {
     "name": "stdout",
     "output_type": "stream",
     "text": [
      "I have a Lion named Simba.\n",
      "I have a dog named Buddy.\n",
      "I have a cat named Whiskers.\n"
     ]
    }
   ],
   "source": [
    "def describe_pet(animal=\"Lion\", name=\"Simba\"):\n",
    "    print(f\"I have a {animal} named {name}.\")\n",
    "\n",
    "# Using keyword arguments\n",
    "describe_pet()\n",
    "describe_pet(animal=\"dog\", name=\"Buddy\")\n",
    "describe_pet(name=\"Whiskers\", animal=\"cat\")"
   ]
  },
  {
   "cell_type": "markdown",
   "metadata": {},
   "source": [
    "6. Positional Arguments"
   ]
  },
  {
   "cell_type": "code",
   "execution_count": 17,
   "metadata": {},
   "outputs": [
    {
     "name": "stdout",
     "output_type": "stream",
     "text": [
      "I have a Lion named Simba.\n",
      "I have a dog named Buddy.\n",
      "I have a cat named Whiskers.\n"
     ]
    }
   ],
   "source": [
    "def describe_pet(animal, name):\n",
    "    print(f\"I have a {animal} named {name}.\")\n",
    "\n",
    "# Using positional arguments\n",
    "describe_pet(\"Lion\", \"Simba\")\n",
    "describe_pet(\"dog\", \"Buddy\")\n",
    "describe_pet(\"cat\", \"Whiskers\")"
   ]
  },
  {
   "cell_type": "markdown",
   "metadata": {},
   "source": [
    "7. Variable-Length Arguments (*args)\n",
    "\n",
    "Allows passing multiple arguments as a tuple.\n",
    "\n",
    "Use Case: Handling a variable number of inputs."
   ]
  },
  {
   "cell_type": "code",
   "execution_count": null,
   "metadata": {},
   "outputs": [
    {
     "name": "stdout",
     "output_type": "stream",
     "text": [
      "15\n"
     ]
    }
   ],
   "source": [
    "def sum_all(*numbers):  # Define a function named 'sum_all' that takes a variable number of arguments\n",
    "    return sum(numbers)  # 'sum()' adds all values in the 'numbers' tuple and returns the result\n",
    "\n",
    "print(sum_all(1, 2, 3, 4, 5))  # Call the function with multiple arguments (1, 2, 3, 4, 5) and print the result"
   ]
  },
  {
   "cell_type": "markdown",
   "metadata": {},
   "source": [
    "8. Keyword Variable-Length Arguments (**kwargs)\n",
    "\n",
    "Allows passing multiple keyword arguments as a dictionary.\n",
    "\n",
    "Use Case: Handling dynamic keyword-based input."
   ]
  },
  {
   "cell_type": "code",
   "execution_count": 21,
   "metadata": {},
   "outputs": [
    {
     "name": "stdout",
     "output_type": "stream",
     "text": [
      "name: Alice\n",
      "age: 25\n",
      "city: New York\n"
     ]
    }
   ],
   "source": [
    "def display_info(**info):\n",
    "    for key, value in info.items():\n",
    "        print(f\"{key}: {value}\")\n",
    "\n",
    "display_info(name=\"Alice\", age=25, city=\"New York\")"
   ]
  },
  {
   "cell_type": "markdown",
   "metadata": {},
   "source": [
    "9. Nested Functions\n",
    "\n",
    "A function inside another function.\n",
    "\n",
    "Use Case: Encapsulating helper functions."
   ]
  },
  {
   "cell_type": "code",
   "execution_count": 23,
   "metadata": {},
   "outputs": [
    {
     "name": "stdout",
     "output_type": "stream",
     "text": [
      "Goes to inner function\n",
      "Inner function called\n"
     ]
    }
   ],
   "source": [
    "def outer_function():\n",
    "    print(\"Goes to inner function\")\n",
    "    def inner_function():\n",
    "        print(\"Inner function called\")\n",
    "    inner_function()\n",
    "\n",
    "outer_function()"
   ]
  },
  {
   "cell_type": "markdown",
   "metadata": {},
   "source": [
    "10. Lambda (Anonymous) Function\n",
    "\n",
    "A small, one-line function.\n",
    "\n",
    "Use Case: Simple functions for quick calculations."
   ]
  },
  {
   "cell_type": "code",
   "execution_count": 25,
   "metadata": {},
   "outputs": [
    {
     "name": "stdout",
     "output_type": "stream",
     "text": [
      "16\n"
     ]
    }
   ],
   "source": [
    "square = lambda x: x ** 2\n",
    "print(square(4))  # Output: 16"
   ]
  },
  {
   "cell_type": "markdown",
   "metadata": {},
   "source": [
    "11. Recursive Function\n",
    "\n",
    "A function that calls itself.\n",
    "\n",
    "Use Case: Solving problems like factorial, Fibonacci, etc."
   ]
  },
  {
   "cell_type": "code",
   "execution_count": 37,
   "metadata": {},
   "outputs": [
    {
     "name": "stdout",
     "output_type": "stream",
     "text": [
      "120\n"
     ]
    }
   ],
   "source": [
    "def factorial(n):  # Define a function named 'factorial' that takes an integer 'n'\n",
    "    if n == 1:  # Base case: If 'n' is 1, return 1 (stopping condition)\n",
    "        return 1\n",
    "    return n * factorial(n - 1)  # Recursive call: Multiply 'n' by factorial of (n-1)\n",
    "\n",
    "print(factorial(5))  # Call the function with argument 5 and print the result"
   ]
  },
  {
   "cell_type": "code",
   "execution_count": 41,
   "metadata": {},
   "outputs": [
    {
     "name": "stdout",
     "output_type": "stream",
     "text": [
      "120\n"
     ]
    }
   ],
   "source": [
    "# same output without recurssive fuction\n",
    "\n",
    "def factorial_iterative(n):  \n",
    "    result = 1  # Start with 1, since factorial of 0 or 1 is 1\n",
    "    for i in range(2, n + 1):  # Loop from 2 to n (since multiplying by 1 has no effect)\n",
    "        result *= i  # Multiply current number with result\n",
    "    return result  # Return the final computed factorial\n",
    "\n",
    "print(factorial_iterative(5))  # Output: 120"
   ]
  },
  {
   "cell_type": "code",
   "execution_count": 28,
   "metadata": {},
   "outputs": [],
   "source": [
    "Explanation = '''\n",
    "How the Function Works (Step by Step)\n",
    "Step 1: Initial Call\n",
    "factorial(5) is called.\n",
    "\n",
    "n = 5, which is not equal to 1.\n",
    "So, the function does not return 1 yet.\n",
    "Instead, it calls factorial(4) and waits for the result.\n",
    "Step 2: Second Call\n",
    "factorial(4) is called.\n",
    "\n",
    "n = 4, which is not equal to 1.\n",
    "Calls factorial(3) and waits.\n",
    "Step 3: Third Call\n",
    "factorial(3) is called.\n",
    "\n",
    "n = 3, which is not equal to 1.\n",
    "Calls factorial(2) and waits.\n",
    "Step 4: Fourth Call\n",
    "factorial(2) is called.\n",
    "\n",
    "n = 2, which is not equal to 1.\n",
    "Calls factorial(1) and waits.\n",
    "Step 5: Base Case Reached\n",
    "factorial(1) is called.\n",
    "\n",
    "Since n == 1, it returns 1 immediately.\n",
    "'''"
   ]
  }
 ],
 "metadata": {
  "kernelspec": {
   "display_name": "Python 3",
   "language": "python",
   "name": "python3"
  },
  "language_info": {
   "codemirror_mode": {
    "name": "ipython",
    "version": 3
   },
   "file_extension": ".py",
   "mimetype": "text/x-python",
   "name": "python",
   "nbconvert_exporter": "python",
   "pygments_lexer": "ipython3",
   "version": "3.13.2"
  }
 },
 "nbformat": 4,
 "nbformat_minor": 2
}
