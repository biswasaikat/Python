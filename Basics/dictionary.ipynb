{
 "cells": [
  {
   "cell_type": "markdown",
   "metadata": {},
   "source": [
    "Part 1: Basics of Python Dictionaries"
   ]
  },
  {
   "cell_type": "code",
   "execution_count": null,
   "metadata": {},
   "outputs": [],
   "source": [
    "# A dictionary in Python is a collection of data that stores items in key-value pairs. Unlike lists (which use indices to access elements), dictionaries use keys to look up their associated values. Think of it like a real-world dictionary: you look up a word (the key), and it gives you the definition (the value).\n",
    "\n",
    "# Key Characteristics:\n",
    "# Unordered: Before Python 3.7, dictionaries didn’t maintain order. Since Python 3.7, they do preserve insertion order, but you don’t access elements by position like a list.\n",
    "# Mutable: You can change, add, or remove items after creating a dictionary.\n",
    "# Unique Keys: Keys must be unique within a dictionary. If you add a duplicate key, it overwrites the previous value.\n",
    "# Keys are Immutable: Keys can be strings, numbers, tuples, etc., but they must be immutable (e.g., no lists as keys).\n",
    "# Values are Flexible: Values can be anything—numbers, strings, lists, even other dictionaries."
   ]
  },
  {
   "cell_type": "code",
   "execution_count": null,
   "metadata": {},
   "outputs": [],
   "source": [
    "# Empty dictionary\n",
    "my_dict = {}\n",
    "\n",
    "# Dictionary with some data\n",
    "my_dict = {\"name\": \"Alice\", \"age\": 25, \"city\": \"New York\"}\n",
    "\n",
    "# \"name\", \"age\", and \"city\" are keys.\n",
    "# \"Alice\", 25, and \"New York\" are values.\n",
    "\n",
    "# Accessing Values:\n",
    "# You access a value by specifying its key inside square brackets [] or using the .get() method."
   ]
  },
  {
   "cell_type": "code",
   "execution_count": null,
   "metadata": {},
   "outputs": [],
   "source": []
  }
 ],
 "metadata": {
  "kernelspec": {
   "display_name": "Python 3",
   "language": "python",
   "name": "python3"
  },
  "language_info": {
   "codemirror_mode": {
    "name": "ipython",
    "version": 3
   },
   "file_extension": ".py",
   "mimetype": "text/x-python",
   "name": "python",
   "nbconvert_exporter": "python",
   "pygments_lexer": "ipython3",
   "version": "3.13.2"
  }
 },
 "nbformat": 4,
 "nbformat_minor": 2
}
