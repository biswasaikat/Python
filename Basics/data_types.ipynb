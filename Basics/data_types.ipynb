{
 "cells": [
  {
   "cell_type": "markdown",
   "metadata": {},
   "source": [
    "Numeric Type\n",
    "\n",
    "1. Integer (int)\n",
    "2. Decimal (float)\n",
    "3. Complex Numbers (complex)"
   ]
  },
  {
   "cell_type": "code",
   "execution_count": null,
   "metadata": {},
   "outputs": [
    {
     "name": "stdout",
     "output_type": "stream",
     "text": [
      "<class 'int'> <class 'int'>\n"
     ]
    }
   ],
   "source": [
    "# Integer\n",
    "\n",
    "x = 10\n",
    "y = -5\n",
    "print(type(x), type(y))  # Output: <class 'int'>"
   ]
  },
  {
   "cell_type": "code",
   "execution_count": 4,
   "metadata": {},
   "outputs": [
    {
     "name": "stdout",
     "output_type": "stream",
     "text": [
      "<class 'float'> <class 'float'>\n"
     ]
    }
   ],
   "source": [
    "# Float\n",
    "\n",
    "pi = 3.14\n",
    "temperature = -15.5\n",
    "print(type(pi), type(temperature))  # Output: <class 'float'>"
   ]
  },
  {
   "cell_type": "code",
   "execution_count": 5,
   "metadata": {},
   "outputs": [
    {
     "name": "stdout",
     "output_type": "stream",
     "text": [
      "<class 'complex'>\n"
     ]
    }
   ],
   "source": [
    "# Complex\n",
    "\n",
    "z = 3 + 4j\n",
    "print(type(z))  # Output: <class 'complex'>"
   ]
  },
  {
   "cell_type": "markdown",
   "metadata": {},
   "source": [
    "Boolean (bool)"
   ]
  },
  {
   "cell_type": "code",
   "execution_count": 6,
   "metadata": {},
   "outputs": [
    {
     "name": "stdout",
     "output_type": "stream",
     "text": [
      "<class 'bool'>\n"
     ]
    }
   ],
   "source": [
    "is_python_fun = True\n",
    "is_raining = False\n",
    "print(type(is_python_fun))  # Output: <class 'bool'>"
   ]
  },
  {
   "cell_type": "markdown",
   "metadata": {},
   "source": [
    "Sequence Type\n",
    "\n",
    "1. String (str) - Text enclosed in quotes \n",
    "2. List (list) - Ordered, mutable collection\n",
    "3. Tuple (tuple) - Ordered, immutable collection\n",
    "4. Range (range) - Sequence of numbers"
   ]
  },
  {
   "cell_type": "code",
   "execution_count": 21,
   "metadata": {},
   "outputs": [
    {
     "name": "stdout",
     "output_type": "stream",
     "text": [
      "Alice\n",
      "<class 'str'>\n"
     ]
    }
   ],
   "source": [
    "# String\n",
    "\n",
    "name = \"Alice\"\n",
    "greeting = 'Hello, World!'\n",
    "print(name)\n",
    "print(type(name))  # Output: <class 'str'>"
   ]
  },
  {
   "cell_type": "code",
   "execution_count": 20,
   "metadata": {},
   "outputs": [
    {
     "name": "stdout",
     "output_type": "stream",
     "text": [
      "['apple', 'banana', 'cherry']\n",
      "<class 'list'>\n"
     ]
    }
   ],
   "source": [
    "# List\n",
    "\n",
    "fruits = [\"apple\", \"banana\", \"cherry\"]\n",
    "print(fruits)\n",
    "print(type(fruits))  # Output: <class 'list'>"
   ]
  },
  {
   "cell_type": "code",
   "execution_count": 19,
   "metadata": {},
   "outputs": [
    {
     "name": "stdout",
     "output_type": "stream",
     "text": [
      "(10, 20)\n",
      "<class 'tuple'>\n"
     ]
    }
   ],
   "source": [
    "# Tuple\n",
    "\n",
    "coordinates = (10, 20)\n",
    "print(coordinates)\n",
    "print(type(coordinates))  # Output: <class 'tuple'>"
   ]
  },
  {
   "cell_type": "code",
   "execution_count": 18,
   "metadata": {},
   "outputs": [
    {
     "name": "stdout",
     "output_type": "stream",
     "text": [
      "range(0, 5)\n",
      "<class 'range'>\n"
     ]
    }
   ],
   "source": [
    "# Range\n",
    "\n",
    "numbers = range(5)  # 0, 1, 2, 3, 4\n",
    "print(numbers)\n",
    "print(type(numbers))  # Output: <class 'range'>"
   ]
  },
  {
   "cell_type": "markdown",
   "metadata": {},
   "source": [
    "Set Type\n",
    "\n",
    "1. Set\n",
    "2. Frozen Set"
   ]
  },
  {
   "cell_type": "code",
   "execution_count": null,
   "metadata": {},
   "outputs": [
    {
     "name": "stdout",
     "output_type": "stream",
     "text": [
      "{1, 2, 3, 4, 5}\n",
      "<class 'set'>\n",
      "{1, 2, 3, 4, 5, 6}\n"
     ]
    }
   ],
   "source": [
    "# Set\n",
    "\n",
    "unique_numbers = {1, 2, 3, 4, 5}\n",
    "print(unique_numbers)\n",
    "print(type(unique_numbers))  # Output: <class 'set'>"
   ]
  },
  {
   "cell_type": "code",
   "execution_count": null,
   "metadata": {},
   "outputs": [
    {
     "name": "stdout",
     "output_type": "stream",
     "text": [
      "frozenset({1, 2, 3})\n",
      "<class 'frozenset'>\n",
      "frozenset({1, 2, 3, 4})\n"
     ]
    }
   ],
   "source": [
    "# Frozen Set\n",
    "\n",
    "immutable_set = frozenset({1, 2, 3})\n",
    "print(immutable_set)\n",
    "print(type(immutable_set))  # Output: <class 'frozenset'>"
   ]
  },
  {
   "cell_type": "markdown",
   "metadata": {},
   "source": [
    "Mapping Type\n",
    "\n",
    "1. Dictionary (dict) - Key value pair"
   ]
  },
  {
   "cell_type": "code",
   "execution_count": 31,
   "metadata": {},
   "outputs": [
    {
     "name": "stdout",
     "output_type": "stream",
     "text": [
      "{'name': 'Alice', 'age': 20, 'grade': 'A'}\n",
      "<class 'dict'>\n"
     ]
    }
   ],
   "source": [
    "student = {\"name\": \"Alice\", \"age\": 20, \"grade\": \"A\"}\n",
    "print(student)\n",
    "print(type(student))  # Output: <class 'dict'>"
   ]
  },
  {
   "cell_type": "markdown",
   "metadata": {},
   "source": [
    "Binary Types\n",
    "\n",
    "1. Bytes (bytes) - Immutable sequence of bytes\n",
    "2. Bytearray (bytearray) - Mutable sequence of bytes\n",
    "3. Memoryview (memoryview) - Access internal binary data"
   ]
  },
  {
   "cell_type": "code",
   "execution_count": 33,
   "metadata": {},
   "outputs": [
    {
     "name": "stdout",
     "output_type": "stream",
     "text": [
      "b'hello'\n",
      "<class 'bytes'>\n"
     ]
    }
   ],
   "source": [
    "# Bytes\n",
    "\n",
    "byte_data = b\"hello\"\n",
    "print(byte_data)\n",
    "print(type(byte_data))  # Output: <class 'bytes'>"
   ]
  },
  {
   "cell_type": "code",
   "execution_count": 34,
   "metadata": {},
   "outputs": [
    {
     "name": "stdout",
     "output_type": "stream",
     "text": [
      "bytearray(b'ABC')\n",
      "<class 'bytearray'>\n"
     ]
    }
   ],
   "source": [
    "# Bytearray\n",
    "\n",
    "mutable_bytes = bytearray([65, 66, 67])\n",
    "print(mutable_bytes)\n",
    "print(type(mutable_bytes))  # Output: <class 'bytearray'>"
   ]
  },
  {
   "cell_type": "code",
   "execution_count": 36,
   "metadata": {},
   "outputs": [
    {
     "name": "stdout",
     "output_type": "stream",
     "text": [
      "<memory at 0x00000249BCDCB700>\n",
      "<class 'memoryview'>\n"
     ]
    }
   ],
   "source": [
    "# Memoryview\n",
    "\n",
    "mem_view = memoryview(byte_data)\n",
    "print(mem_view)\n",
    "print(type(mem_view))  # Output: <class 'memoryview'>"
   ]
  },
  {
   "cell_type": "markdown",
   "metadata": {},
   "source": [
    "Non Type - Represents absence of value"
   ]
  },
  {
   "cell_type": "code",
   "execution_count": 42,
   "metadata": {},
   "outputs": [
    {
     "name": "stdout",
     "output_type": "stream",
     "text": [
      "None\n",
      "<class 'NoneType'>\n"
     ]
    }
   ],
   "source": [
    "nothing = None\n",
    "print(nothing)\n",
    "print(type(nothing))  # Output: <class 'NoneType'>"
   ]
  }
 ],
 "metadata": {
  "kernelspec": {
   "display_name": "Python 3",
   "language": "python",
   "name": "python3"
  },
  "language_info": {
   "codemirror_mode": {
    "name": "ipython",
    "version": 3
   },
   "file_extension": ".py",
   "mimetype": "text/x-python",
   "name": "python",
   "nbconvert_exporter": "python",
   "pygments_lexer": "ipython3",
   "version": "3.13.2"
  }
 },
 "nbformat": 4,
 "nbformat_minor": 2
}
