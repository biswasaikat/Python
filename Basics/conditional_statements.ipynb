{
 "cells": [
  {
   "cell_type": "markdown",
   "metadata": {},
   "source": [
    "if statement"
   ]
  },
  {
   "cell_type": "code",
   "execution_count": 1,
   "metadata": {},
   "outputs": [
    {
     "name": "stdout",
     "output_type": "stream",
     "text": [
      "The number is positive!\n"
     ]
    }
   ],
   "source": [
    "number = 10\n",
    "\n",
    "if number > 0:\n",
    "    print(\"The number is positive!\")"
   ]
  },
  {
   "cell_type": "markdown",
   "metadata": {},
   "source": [
    "if with else statement"
   ]
  },
  {
   "cell_type": "code",
   "execution_count": 2,
   "metadata": {},
   "outputs": [
    {
     "name": "stdout",
     "output_type": "stream",
     "text": [
      "The number is zero or negative!\n"
     ]
    }
   ],
   "source": [
    "number = -5\n",
    "\n",
    "if number > 0:\n",
    "    print(\"The number is positive!\")\n",
    "else:\n",
    "    print(\"The number is zero or negative!\")"
   ]
  },
  {
   "cell_type": "markdown",
   "metadata": {},
   "source": [
    "if with elif and else"
   ]
  },
  {
   "cell_type": "code",
   "execution_count": 4,
   "metadata": {},
   "outputs": [
    {
     "name": "stdout",
     "output_type": "stream",
     "text": [
      "The number is negative!\n"
     ]
    }
   ],
   "source": [
    "number = -5\n",
    "\n",
    "if number > 0:\n",
    "    print(\"The number is positive!\")\n",
    "elif number < 0:\n",
    "    print(\"The number is negative!\")\n",
    "else:\n",
    "    print(\"The number is zero!\")"
   ]
  },
  {
   "cell_type": "markdown",
   "metadata": {},
   "source": [
    "multiple elif statements"
   ]
  },
  {
   "cell_type": "code",
   "execution_count": 6,
   "metadata": {},
   "outputs": [
    {
     "name": "stdout",
     "output_type": "stream",
     "text": [
      "Grade: B\n"
     ]
    }
   ],
   "source": [
    "score = 85\n",
    "\n",
    "if score >= 90:\n",
    "    print(\"Grade: A\")\n",
    "elif score >= 80:\n",
    "    print(\"Grade: B\")\n",
    "elif score >= 70:\n",
    "    print(\"Grade: C\")\n",
    "elif score >= 60:\n",
    "    print(\"Grade: D\")\n",
    "else:\n",
    "    print(\"Grade: F\")"
   ]
  },
  {
   "cell_type": "markdown",
   "metadata": {},
   "source": [
    "Nested Conditional Statements"
   ]
  },
  {
   "cell_type": "code",
   "execution_count": 8,
   "metadata": {},
   "outputs": [
    {
     "name": "stdout",
     "output_type": "stream",
     "text": [
      "You can watch the Titanic with a parent.\n"
     ]
    }
   ],
   "source": [
    "age = 16\n",
    "has_parent = True\n",
    "movie = \"Titanic\"\n",
    "\n",
    "if age >= 18:\n",
    "    print(\"You can watch the movie!\")\n",
    "else:\n",
    "    if has_parent:\n",
    "        print(f\"You can watch the {movie} with a parent.\")\n",
    "    else:\n",
    "        print(\"You cannot watch the {movie} without a parent.\")"
   ]
  },
  {
   "cell_type": "markdown",
   "metadata": {},
   "source": [
    "Using Logical Operators in Conditions"
   ]
  },
  {
   "cell_type": "code",
   "execution_count": 12,
   "metadata": {},
   "outputs": [
    {
     "name": "stdout",
     "output_type": "stream",
     "text": [
      "Great weather for a picnic!\n",
      "True\n"
     ]
    }
   ],
   "source": [
    "temperature = 75\n",
    "is_raining = False\n",
    "\n",
    "if temperature > 70 and not is_raining:\n",
    "    print(\"Great weather for a picnic!\")\n",
    "elif temperature > 60 or not is_raining:\n",
    "    print(\"You can go outside, but it might not be ideal.\")\n",
    "else:\n",
    "    print(\"Stay indoors—bad weather!\")\n",
    "\n",
    "print(not is_raining)"
   ]
  },
  {
   "cell_type": "markdown",
   "metadata": {},
   "source": [
    "Checking Membership with in"
   ]
  },
  {
   "cell_type": "code",
   "execution_count": 14,
   "metadata": {},
   "outputs": [
    {
     "name": "stdout",
     "output_type": "stream",
     "text": [
      "Yes, banana is in the list!\n"
     ]
    }
   ],
   "source": [
    "fruits = [\"apple\", \"banana\", \"orange\"]\n",
    "\n",
    "if \"banana\" in fruits:\n",
    "    print(\"Yes, banana is in the list!\")\n",
    "else:\n",
    "    print(\"Banana is not in the list.\")"
   ]
  },
  {
   "cell_type": "markdown",
   "metadata": {},
   "source": [
    "Real-World Scenario: Password Validation"
   ]
  },
  {
   "cell_type": "code",
   "execution_count": 18,
   "metadata": {},
   "outputs": [
    {
     "name": "stdout",
     "output_type": "stream",
     "text": [
      "Password is strong!\n"
     ]
    }
   ],
   "source": [
    "password = \"Secure123\"\n",
    "\n",
    "if len(password) >= 8:\n",
    "    if any(char.isupper() for char in password) and any(char.islower() for char in password) and any(char.isdigit() for char in password):\n",
    "        print(\"Password is strong!\")\n",
    "    else:\n",
    "        print(\"Password must have uppercase, lowercase, and numbers.\")\n",
    "else:\n",
    "    print(\"Password must be at least 8 characters long.\")"
   ]
  },
  {
   "cell_type": "markdown",
   "metadata": {},
   "source": [
    "Edge Cases and Empty Values"
   ]
  },
  {
   "cell_type": "code",
   "execution_count": 24,
   "metadata": {},
   "outputs": [
    {
     "name": "stdout",
     "output_type": "stream",
     "text": [
      "The list is empty!\n",
      "0\n"
     ]
    }
   ],
   "source": [
    "my_list = []\n",
    "\n",
    "if my_list:\n",
    "    print(\"The list has elements.\")\n",
    "else:\n",
    "    print(\"The list is empty!\")\n",
    "\n",
    "print(len(my_list))"
   ]
  }
 ],
 "metadata": {
  "kernelspec": {
   "display_name": "Python 3",
   "language": "python",
   "name": "python3"
  },
  "language_info": {
   "codemirror_mode": {
    "name": "ipython",
    "version": 3
   },
   "file_extension": ".py",
   "mimetype": "text/x-python",
   "name": "python",
   "nbconvert_exporter": "python",
   "pygments_lexer": "ipython3",
   "version": "3.13.2"
  }
 },
 "nbformat": 4,
 "nbformat_minor": 2
}
