{
 "cells": [
  {
   "cell_type": "markdown",
   "id": "cb219b4f",
   "metadata": {},
   "source": [
    "Solution 1: 1. Brute‑Force Pairwise Scan"
   ]
  },
  {
   "cell_type": "code",
   "execution_count": 2,
   "id": "924bb388",
   "metadata": {},
   "outputs": [],
   "source": [
    "# Aspect        Details\n",
    "# Algorithm     Two nested loops: for each i, compare nums[i] with every nums[j] (j>i)\n",
    "# Data structure(s)  Raw array only\n",
    "# Time          O(n²) comparisons\n",
    "# Space         O(1) extra\n",
    "# Pros          Easiest to implement; no extra memory\n",
    "# Cons          Exponential slowdown on large arrays"
   ]
  },
  {
   "cell_type": "code",
   "execution_count": null,
   "id": "0a31890e",
   "metadata": {},
   "outputs": [],
   "source": [
    "def contains_duplicate_bruteforce(nums):\n",
    "    n = len(nums)\n",
    "    for i in range(n):\n",
    "        for j in range(i + 1, n):\n",
    "            if nums[i] == nums[j]:\n",
    "                return True\n",
    "    return False\n",
    "\n",
    "# Example test case\n",
    "nums = [1, 2, 3, 1]\n",
    "print(contains_duplicate_bruteforce(nums))  # Output: True"
   ]
  },
  {
   "cell_type": "code",
   "execution_count": 4,
   "id": "a4c17bfa",
   "metadata": {},
   "outputs": [],
   "source": [
    "# Algorithm        Sort nums in‑place (e.g. Timsort via nums.sort()), then scan once and check nums[i] == nums[i+1]\n",
    "# Data structure(s)    Array (plus recursion buffer for some sorts)\n",
    "# Time            O(n log n) for any comparison sort\n",
    "# Space           O(1) extra if using in‑place quicksort (CPython’s Timsort uses O(n) worst‑case auxiliary)\n",
    "# Pros            No hash table; keeps deterministic O(n log n) upper bound\n",
    "# Cons            Slower than hash‑set approach; destroys original order (unless you copy); still needs O(n) memory in worst‑case Timsort"
   ]
  },
  {
   "cell_type": "code",
   "execution_count": 5,
   "id": "b89f5c9b",
   "metadata": {},
   "outputs": [
    {
     "name": "stdout",
     "output_type": "stream",
     "text": [
      "True\n"
     ]
    }
   ],
   "source": [
    "def contains_duplicate_sort(nums):\n",
    "    nums.sort()  # In-place sort\n",
    "    for i in range(1, len(nums)):\n",
    "        if nums[i] == nums[i - 1]:\n",
    "            return True\n",
    "    return False\n",
    "# Example test case\n",
    "nums = [1, 2, 3, 1]\n",
    "print(contains_duplicate_bruteforce(nums))  # Output: True"
   ]
  }
 ],
 "metadata": {
  "kernelspec": {
   "display_name": "Python 3",
   "language": "python",
   "name": "python3"
  },
  "language_info": {
   "codemirror_mode": {
    "name": "ipython",
    "version": 3
   },
   "file_extension": ".py",
   "mimetype": "text/x-python",
   "name": "python",
   "nbconvert_exporter": "python",
   "pygments_lexer": "ipython3",
   "version": "3.13.5"
  }
 },
 "nbformat": 4,
 "nbformat_minor": 5
}
