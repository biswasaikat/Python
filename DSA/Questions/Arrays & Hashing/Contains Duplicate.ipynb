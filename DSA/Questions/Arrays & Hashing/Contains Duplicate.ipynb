{
 "cells": [
  {
   "cell_type": "markdown",
   "id": "cb219b4f",
   "metadata": {},
   "source": [
    "Solution 1: 1. Brute‑Force Pairwise Scan"
   ]
  },
  {
   "cell_type": "code",
   "execution_count": null,
   "id": "924bb388",
   "metadata": {},
   "outputs": [],
   "source": [
    "# Aspect        Details\n",
    "# Algorithm     Two nested loops: for each i, compare nums[i] with every nums[j] (j>i)\n",
    "# Data structure(s)  Raw array only\n",
    "# Time          O(n²) comparisons\n",
    "# Space         O(1) extra\n",
    "# Pros          Easiest to implement; no extra memory\n",
    "# Cons          Exponential slowdown on large arrays"
   ]
  },
  {
   "cell_type": "code",
   "execution_count": null,
   "id": "0a31890e",
   "metadata": {},
   "outputs": [
    {
     "ename": "",
     "evalue": "",
     "output_type": "error",
     "traceback": [
      "\u001b[1;31mRunning cells with 'Python 3.11.9' requires the ipykernel package.\n",
      "\u001b[1;31m<a href='command:jupyter.createPythonEnvAndSelectController'>Create a Python Environment</a> with the required packages.\n",
      "\u001b[1;31mOr install 'ipykernel' using the command: '\"c:/Users/Saikat Biswas/AppData/Local/Microsoft/WindowsApps/python3.11.exe\" -m pip install ipykernel -U --user --force-reinstall'"
     ]
    }
   ],
   "source": [
    "def contains_duplicate_bruteforce(nums):\n",
    "    n = len(nums)\n",
    "    for i in range(n):\n",
    "        for j in range(i + 1, n):\n",
    "            if nums[i] == nums[j]:\n",
    "                return True\n",
    "    return False"
   ]
  },
  {
   "cell_type": "code",
   "execution_count": null,
   "id": "52308280",
   "metadata": {},
   "outputs": [],
   "source": []
  }
 ],
 "metadata": {
  "kernelspec": {
   "display_name": "Python 3",
   "language": "python",
   "name": "python3"
  },
  "language_info": {
   "name": "python",
   "version": "3.11.9"
  }
 },
 "nbformat": 4,
 "nbformat_minor": 5
}
