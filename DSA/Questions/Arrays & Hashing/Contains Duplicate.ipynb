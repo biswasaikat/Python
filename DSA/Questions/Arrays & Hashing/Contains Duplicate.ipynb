{
 "cells": [
  {
   "cell_type": "markdown",
   "id": "cb219b4f",
   "metadata": {},
   "source": [
    "Solution 1: 1. Brute‑Force Pairwise Scan"
   ]
  },
  {
   "cell_type": "code",
   "execution_count": null,
   "id": "924bb388",
   "metadata": {
    "vscode": {
     "languageId": "plaintext"
    }
   },
   "outputs": [],
   "source": [
    "Aspect\tDetails\n",
    "Algorithm\tTwo nested loops: for each i, compare nums[i] with every nums[j] (j>i)\n",
    "Data structure(s)\tRaw array only\n",
    "Time\tO(n²) comparisons\n",
    "Space\tO(1) extra\n",
    "Pros\tEasiest to implement; no extra memory\n",
    "Cons\tExponential slowdown on large arrays"
   ]
  },
  {
   "cell_type": "code",
   "execution_count": null,
   "id": "0a31890e",
   "metadata": {
    "vscode": {
     "languageId": "plaintext"
    }
   },
   "outputs": [],
   "source": []
  }
 ],
 "metadata": {
  "language_info": {
   "name": "python"
  }
 },
 "nbformat": 4,
 "nbformat_minor": 5
}
